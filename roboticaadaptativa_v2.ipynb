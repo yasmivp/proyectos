{
  "nbformat": 4,
  "nbformat_minor": 0,
  "metadata": {
    "colab": {
      "provenance": [],
      "include_colab_link": true
    },
    "kernelspec": {
      "name": "python3",
      "display_name": "Python 3"
    },
    "language_info": {
      "name": "python"
    }
  },
  "cells": [
    {
      "cell_type": "markdown",
      "metadata": {
        "id": "view-in-github",
        "colab_type": "text"
      },
      "source": [
        "<a href=\"https://colab.research.google.com/github/yasmivp/proyectos/blob/master/roboticaadaptativa_v2.ipynb\" target=\"_parent\"><img src=\"https://colab.research.google.com/assets/colab-badge.svg\" alt=\"Open In Colab\"/></a>"
      ]
    },
    {
      "cell_type": "markdown",
      "source": [
        "\n",
        "https://www.gymlibrary.dev/environments/toy_text/frozen_lake/"
      ],
      "metadata": {
        "id": "YiKndru_90pR"
      }
    },
    {
      "cell_type": "markdown",
      "source": [
        "https://gymnasium.farama.org/content/basic_usage/"
      ],
      "metadata": {
        "id": "N-4Xy0cQwihY"
      }
    },
    {
      "cell_type": "markdown",
      "source": [
        "https://gym.openai.com/"
      ],
      "metadata": {
        "id": "NAhTt4aS-DtY"
      }
    },
    {
      "cell_type": "markdown",
      "metadata": {
        "id": "jcmeoy1Ggl2z"
      },
      "source": [
        "Frozen-Lake, simula una pista de patinaje sobre hielo. Esta pista está dividida en 16 celdas (4x4), y en algunas de ellas se ha roto el hielo (H). El patinador empieza a patinar en la posición superior izquierda y us objetivo es alcanzar la posición inferior derecha evitando caer en algún agujero. Si cae en agujero el episodio termina y la recompesa (reward) será cero. Si llega a la celda destino la recompensa será uno y termina el episodio. Al ser 4x4 hay 16 estados se numeran del 0 al 15. Hay un espacio de acciones compuesto de movimientos en cuatro direcciones (left, down, right, up). También hay valla entorno a la pista, si el agente intenta salir de la cuadrícula, rota y queda en la misma celda desde la que lo intentó. Existe un variable (slippery) que permite introducir incertidumbre en el problema. Si el patinador quiere ir hacia una dirección, hay 1/3 de probablidad de que lo logre (33%), 66% que vaya en otra dirección"
      ]
    },
    {
      "cell_type": "code",
      "source": [
        "!apt update\n",
        "!apt install xvfb\n",
        "!pip install pyvirtualdisplay\n",
        "\n"
      ],
      "metadata": {
        "id": "epgORDJGa3x4",
        "colab": {
          "base_uri": "https://localhost:8080/"
        },
        "outputId": "ab29bbac-1092-4b82-97a4-2bdc0f7c7c44"
      },
      "execution_count": null,
      "outputs": [
        {
          "output_type": "stream",
          "name": "stdout",
          "text": [
            "Ign:1 https://developer.download.nvidia.com/compute/machine-learning/repos/ubuntu2004/x86_64  InRelease\n",
            "Hit:2 https://developer.download.nvidia.com/compute/cuda/repos/ubuntu2004/x86_64  InRelease\n",
            "Hit:3 https://developer.download.nvidia.com/compute/machine-learning/repos/ubuntu2004/x86_64  Release\n",
            "Hit:4 http://ppa.launchpad.net/c2d4u.team/c2d4u4.0+/ubuntu focal InRelease\n",
            "Get:5 http://security.ubuntu.com/ubuntu focal-security InRelease [114 kB]\n",
            "Get:6 https://cloud.r-project.org/bin/linux/ubuntu focal-cran40/ InRelease [3,622 B]\n",
            "Hit:7 http://archive.ubuntu.com/ubuntu focal InRelease\n",
            "Hit:9 http://ppa.launchpad.net/cran/libgit2/ubuntu focal InRelease\n",
            "Get:10 http://archive.ubuntu.com/ubuntu focal-updates InRelease [114 kB]\n",
            "Hit:11 http://ppa.launchpad.net/deadsnakes/ppa/ubuntu focal InRelease\n",
            "Hit:12 http://ppa.launchpad.net/graphics-drivers/ppa/ubuntu focal InRelease\n",
            "Get:13 http://archive.ubuntu.com/ubuntu focal-backports InRelease [108 kB]\n",
            "Get:14 http://security.ubuntu.com/ubuntu focal-security/main amd64 Packages [2,496 kB]\n",
            "Hit:15 http://ppa.launchpad.net/ubuntugis/ppa/ubuntu focal InRelease\n",
            "Get:16 http://archive.ubuntu.com/ubuntu focal-updates/restricted amd64 Packages [2,069 kB]\n",
            "Get:17 http://archive.ubuntu.com/ubuntu focal-updates/universe amd64 Packages [1,299 kB]\n",
            "Get:18 http://security.ubuntu.com/ubuntu focal-security/universe amd64 Packages [1,000 kB]\n",
            "Get:19 http://archive.ubuntu.com/ubuntu focal-updates/main amd64 Packages [2,972 kB]\n",
            "Get:20 http://archive.ubuntu.com/ubuntu focal-backports/universe amd64 Packages [28.6 kB]\n",
            "Fetched 10.2 MB in 4s (2,670 kB/s)\n",
            "Reading package lists... Done\n",
            "Building dependency tree       \n",
            "Reading state information... Done\n",
            "19 packages can be upgraded. Run 'apt list --upgradable' to see them.\n",
            "Reading package lists... Done\n",
            "Building dependency tree       \n",
            "Reading state information... Done\n",
            "The following NEW packages will be installed:\n",
            "  xvfb\n",
            "0 upgraded, 1 newly installed, 0 to remove and 19 not upgraded.\n",
            "Need to get 780 kB of archives.\n",
            "After this operation, 2,271 kB of additional disk space will be used.\n",
            "Get:1 http://archive.ubuntu.com/ubuntu focal-updates/universe amd64 xvfb amd64 2:1.20.13-1ubuntu1~20.04.6 [780 kB]\n",
            "Fetched 780 kB in 2s (420 kB/s)\n",
            "Selecting previously unselected package xvfb.\n",
            "(Reading database ... 128208 files and directories currently installed.)\n",
            "Preparing to unpack .../xvfb_2%3a1.20.13-1ubuntu1~20.04.6_amd64.deb ...\n",
            "Unpacking xvfb (2:1.20.13-1ubuntu1~20.04.6) ...\n",
            "Setting up xvfb (2:1.20.13-1ubuntu1~20.04.6) ...\n",
            "Processing triggers for man-db (2.9.1-1) ...\n",
            "Looking in indexes: https://pypi.org/simple, https://us-python.pkg.dev/colab-wheels/public/simple/\n",
            "Collecting pyvirtualdisplay\n",
            "  Downloading PyVirtualDisplay-3.0-py3-none-any.whl (15 kB)\n",
            "Installing collected packages: pyvirtualdisplay\n",
            "Successfully installed pyvirtualdisplay-3.0\n"
          ]
        }
      ]
    },
    {
      "cell_type": "code",
      "source": [
        "pip install gym[toy_text]"
      ],
      "metadata": {
        "id": "2S7VOMGPbf-S",
        "colab": {
          "base_uri": "https://localhost:8080/"
        },
        "outputId": "f73f0a30-e065-4e2e-b264-e5b6aac8307a"
      },
      "execution_count": null,
      "outputs": [
        {
          "output_type": "stream",
          "name": "stdout",
          "text": [
            "Looking in indexes: https://pypi.org/simple, https://us-python.pkg.dev/colab-wheels/public/simple/\n",
            "Requirement already satisfied: gym[toy_text] in /usr/local/lib/python3.8/dist-packages (0.25.2)\n",
            "Requirement already satisfied: cloudpickle>=1.2.0 in /usr/local/lib/python3.8/dist-packages (from gym[toy_text]) (2.2.1)\n",
            "Requirement already satisfied: gym-notices>=0.0.4 in /usr/local/lib/python3.8/dist-packages (from gym[toy_text]) (0.0.8)\n",
            "Requirement already satisfied: importlib-metadata>=4.8.0 in /usr/local/lib/python3.8/dist-packages (from gym[toy_text]) (6.0.0)\n",
            "Requirement already satisfied: numpy>=1.18.0 in /usr/local/lib/python3.8/dist-packages (from gym[toy_text]) (1.22.4)\n",
            "Collecting pygame==2.1.0\n",
            "  Downloading pygame-2.1.0-cp38-cp38-manylinux_2_17_x86_64.manylinux2014_x86_64.whl (18.3 MB)\n",
            "\u001b[2K     \u001b[90m━━━━━━━━━━━━━━━━━━━━━━━━━━━━━━━━━━━━━━━━\u001b[0m \u001b[32m18.3/18.3 MB\u001b[0m \u001b[31m34.3 MB/s\u001b[0m eta \u001b[36m0:00:00\u001b[0m\n",
            "\u001b[?25hRequirement already satisfied: zipp>=0.5 in /usr/local/lib/python3.8/dist-packages (from importlib-metadata>=4.8.0->gym[toy_text]) (3.14.0)\n",
            "Installing collected packages: pygame\n",
            "Successfully installed pygame-2.1.0\n"
          ]
        }
      ]
    },
    {
      "cell_type": "code",
      "source": [
        "import pyvirtualdisplay\n",
        "\n",
        "d = pyvirtualdisplay.Display()\n",
        "d.start() # Start Xvfb and set \"DISPLAY\" environment properly."
      ],
      "metadata": {
        "id": "B7Fc9qrgcKIM"
      },
      "execution_count": null,
      "outputs": []
    },
    {
      "cell_type": "markdown",
      "source": [
        "Acciones:\n",
        "\n",
        "0: LEFT\n",
        "\n",
        "1: DOWN\n",
        "\n",
        "2: RIGHT\n",
        "\n",
        "3: UP"
      ],
      "metadata": {
        "id": "V38UbtVGq2F_"
      }
    },
    {
      "cell_type": "code",
      "metadata": {
        "id": "97lzA_ZKYI5Z",
        "colab": {
          "base_uri": "https://localhost:8080/",
          "height": 889
        },
        "outputId": "4974c19f-c993-479d-f0e7-50ea5261a6fc"
      },
      "source": [
        "import gym\n",
        "from IPython import display\n",
        "from pyvirtualdisplay import Display\n",
        "import matplotlib.pyplot as plt\n",
        "\n",
        "d = Display()\n",
        "d.start()\n",
        "\n",
        "env=gym.make(\"FrozenLake-v1\", desc=None, map_name=\"4x4\", is_slippery=False)\n",
        "env.reset(seed=123, options={})\n",
        "\n",
        "img = plt.imshow(env.render('rgb_array'))\n",
        "display.clear_output(wait=True)\n",
        "img.set_data(env.render('rgb_array'))\n",
        "plt.axis('off')\n",
        "display.display(plt.gcf())\n",
        "\n",
        "a=input (\"vamos a empezar... pulsa para seguir \")\n",
        "#env.render()\n",
        "\n",
        "is_done=False\n",
        "t=0\n",
        "\n",
        "while not is_done:\n",
        "  accion=env.action_space.sample()\n",
        "  #print (\"la accion ejecutada es \",accion)\n",
        "  estado,refuerzo,is_done,_=env.step(accion)\n",
        "  t=t+1\n",
        "\n",
        "  display.clear_output(wait=True)\n",
        "  img.set_data(env.render('rgb_array'))\n",
        "  plt.axis('off')\n",
        "  display.display(plt.gcf())\n",
        "  \n",
        "  print (\"la accion ejecutada es \",accion)\n",
        "  a=input (\"pulsa para seguir \")\n",
        "\n",
        "\n",
        "print (\"ultimo estado \",estado)\n",
        "print (\"ultimo refuerzo \",refuerzo)\n",
        "print (\"pasos_ejecutados \",t)\n",
        "\n"
      ],
      "execution_count": null,
      "outputs": [
        {
          "output_type": "display_data",
          "data": {
            "text/plain": [
              "<Figure size 432x288 with 1 Axes>"
            ],
            "image/png": "[encoded data removed]"
          },
          "metadata": {}
        },
        {
          "output_type": "stream",
          "name": "stdout",
          "text": [
            "la accion ejecutada es  2\n"
          ]
        },
        {
          "output_type": "error",
          "ename": "KeyboardInterrupt",
          "evalue": "ignored",
          "traceback": [
            "\u001b[0;31m---------------------------------------------------------------------------\u001b[0m",
            "\u001b[0;31mKeyboardInterrupt\u001b[0m                         Traceback (most recent call last)",
            "\u001b[0;32m<ipython-input-3-a7fbffcf2446>\u001b[0m in \u001b[0;36m<module>\u001b[0;34m\u001b[0m\n\u001b[1;32m     34\u001b[0m \u001b[0;34m\u001b[0m\u001b[0m\n\u001b[1;32m     35\u001b[0m   \u001b[0mprint\u001b[0m \u001b[0;34m(\u001b[0m\u001b[0;34m\"la accion ejecutada es \"\u001b[0m\u001b[0;34m,\u001b[0m\u001b[0maccion\u001b[0m\u001b[0;34m)\u001b[0m\u001b[0;34m\u001b[0m\u001b[0;34m\u001b[0m\u001b[0m\n\u001b[0;32m---> 36\u001b[0;31m   \u001b[0ma\u001b[0m\u001b[0;34m=\u001b[0m\u001b[0minput\u001b[0m \u001b[0;34m(\u001b[0m\u001b[0;34m\"pulsa para seguir \"\u001b[0m\u001b[0;34m)\u001b[0m\u001b[0;34m\u001b[0m\u001b[0;34m\u001b[0m\u001b[0m\n\u001b[0m\u001b[1;32m     37\u001b[0m \u001b[0;34m\u001b[0m\u001b[0m\n\u001b[1;32m     38\u001b[0m \u001b[0;34m\u001b[0m\u001b[0m\n",
            "\u001b[0;32m/usr/local/lib/python3.8/dist-packages/ipykernel/kernelbase.py\u001b[0m in \u001b[0;36mraw_input\u001b[0;34m(self, prompt)\u001b[0m\n\u001b[1;32m    858\u001b[0m                 \u001b[0;34m\"raw_input was called, but this frontend does not support input requests.\"\u001b[0m\u001b[0;34m\u001b[0m\u001b[0;34m\u001b[0m\u001b[0m\n\u001b[1;32m    859\u001b[0m             )\n\u001b[0;32m--> 860\u001b[0;31m         return self._input_request(str(prompt),\n\u001b[0m\u001b[1;32m    861\u001b[0m             \u001b[0mself\u001b[0m\u001b[0;34m.\u001b[0m\u001b[0m_parent_ident\u001b[0m\u001b[0;34m,\u001b[0m\u001b[0;34m\u001b[0m\u001b[0;34m\u001b[0m\u001b[0m\n\u001b[1;32m    862\u001b[0m             \u001b[0mself\u001b[0m\u001b[0;34m.\u001b[0m\u001b[0m_parent_header\u001b[0m\u001b[0;34m,\u001b[0m\u001b[0;34m\u001b[0m\u001b[0;34m\u001b[0m\u001b[0m\n",
            "\u001b[0;32m/usr/local/lib/python3.8/dist-packages/ipykernel/kernelbase.py\u001b[0m in \u001b[0;36m_input_request\u001b[0;34m(self, prompt, ident, parent, password)\u001b[0m\n\u001b[1;32m    902\u001b[0m             \u001b[0;32mexcept\u001b[0m \u001b[0mKeyboardInterrupt\u001b[0m\u001b[0;34m:\u001b[0m\u001b[0;34m\u001b[0m\u001b[0;34m\u001b[0m\u001b[0m\n\u001b[1;32m    903\u001b[0m                 \u001b[0;31m# re-raise KeyboardInterrupt, to truncate traceback\u001b[0m\u001b[0;34m\u001b[0m\u001b[0;34m\u001b[0m\u001b[0;34m\u001b[0m\u001b[0m\n\u001b[0;32m--> 904\u001b[0;31m                 \u001b[0;32mraise\u001b[0m \u001b[0mKeyboardInterrupt\u001b[0m\u001b[0;34m(\u001b[0m\u001b[0;34m\"Interrupted by user\"\u001b[0m\u001b[0;34m)\u001b[0m \u001b[0;32mfrom\u001b[0m \u001b[0;32mNone\u001b[0m\u001b[0;34m\u001b[0m\u001b[0;34m\u001b[0m\u001b[0m\n\u001b[0m\u001b[1;32m    905\u001b[0m             \u001b[0;32mexcept\u001b[0m \u001b[0mException\u001b[0m \u001b[0;32mas\u001b[0m \u001b[0me\u001b[0m\u001b[0;34m:\u001b[0m\u001b[0;34m\u001b[0m\u001b[0;34m\u001b[0m\u001b[0m\n\u001b[1;32m    906\u001b[0m                 \u001b[0mself\u001b[0m\u001b[0;34m.\u001b[0m\u001b[0mlog\u001b[0m\u001b[0;34m.\u001b[0m\u001b[0mwarning\u001b[0m\u001b[0;34m(\u001b[0m\u001b[0;34m\"Invalid Message:\"\u001b[0m\u001b[0;34m,\u001b[0m \u001b[0mexc_info\u001b[0m\u001b[0;34m=\u001b[0m\u001b[0;32mTrue\u001b[0m\u001b[0;34m)\u001b[0m\u001b[0;34m\u001b[0m\u001b[0;34m\u001b[0m\u001b[0m\n",
            "\u001b[0;31mKeyboardInterrupt\u001b[0m: Interrupted by user"
          ]
        },
        {
          "output_type": "display_data",
          "data": {
            "text/plain": [
              "<Figure size 432x288 with 1 Axes>"
            ],
            "image/png": "[encoded data removed]"
          },
          "metadata": {
            "needs_background": "light"
          }
        }
      ]
    },
    {
      "cell_type": "markdown",
      "metadata": {
        "id": "uiHVBgGtdaLG"
      },
      "source": [
        "Este primer código muestra los pasos básicos con Gym y el entorno FrozenLake-v0. En primer lugar se carga el entorno. La funión  reset reinicia la partida, render muestra el estado del tablero, La función sample escoge una acción de forma aleatoria, step la ejecuta  y devuelve las consecuencias (estado siguiente, refuerzo recibido, así como si el estado al que ha pasado el sistema es final --agujero o goal alcanzados--)."
      ]
    },
    {
      "cell_type": "markdown",
      "source": [
        "En este código podemos ver como podemos acceder al modelo (información del sistema: probabilidades de transición, refuerzos). Debemos fijarnos como en este caso el entorno es estocástico (is_slippery=True\n",
        "\n",
        "Acciones: \n",
        "\n",
        "0: LEFT\n",
        "\n",
        "1: DOWN\n",
        "\n",
        "2: RIGHT\n",
        "\n",
        "3: UP\n",
        "\n",
        "Refuerzo:\n",
        "\n",
        "Reach goal(G): +1\n",
        "\n",
        "Reach hole(H): 0\n",
        "\n",
        "Reach frozen(F): 0\n",
        "\n",
        "Estados:\n",
        "\n",
        "0  --- 1 ---   2 ---  3\n",
        "\n",
        "4  --- 5 ---   6 ---  7\n",
        "\n",
        "8  --- 9 --   10--  11\n",
        "\n",
        "12 - 13 -  14 - 15\n",
        "\n",
        "En este código podemos ver como podemos acceder al modelo (información del sistema: probabilidades de transición, refuerzos), en este caso se muestra para el estado 10 y acción 1. Comprueba que entiendes bien la salida. También se importante fijarse que en este caso el entorno es estocástico (is_slippery=True)\n",
        "\n"
      ],
      "metadata": {
        "id": "ksy7TA_VRp18"
      }
    },
    {
      "cell_type": "code",
      "source": [
        "env=gym.make(\"FrozenLake-v1\", desc=None, map_name=\"4x4\", is_slippery=True)\n",
        "env.reset(seed=123, options={})\n",
        "\n",
        "env.P\n",
        "#En la variable nS recogemos el número de estados\n",
        "nS=env.observation_space.n\n",
        "state=10\n",
        "action=1\n",
        "\n",
        "print (\"asumiendo que estamso en el estado \",state, \" si ejecutamos la accion \",action)\n",
        "\n",
        "for next_state in env.P[state][action]:\n",
        "  print (\"info del siguiente estado\")\n",
        "  print (next_state)\n",
        "  probability = next_state[0]\n",
        "  new_state = next_state[1]\n",
        "  reward = next_state[2]\n",
        "  print (\"nuevo estado \",new_state,\" al que transita con probabilidad \",probability,\" y recibe el refuerzo \",reward)\n",
        "\n",
        "\n"
      ],
      "metadata": {
        "id": "LyGW6ICyJM9j",
        "colab": {
          "base_uri": "https://localhost:8080/"
        },
        "outputId": "cfbbd90b-49bf-4739-a35a-1b698bde7388"
      },
      "execution_count": null,
      "outputs": [
        {
          "output_type": "stream",
          "name": "stdout",
          "text": [
            "asumiendo que estamso en el estado  10  si ejecutamos la accion  1\n",
            "info del siguiente estado\n",
            "(0.3333333333333333, 9, 0.0, False)\n",
            "nuevo estado  9  al que transita con probabilidad  0.3333333333333333  y recibe el refuerzo  0.0\n",
            "info del siguiente estado\n",
            "(0.3333333333333333, 14, 0.0, False)\n",
            "nuevo estado  14  al que transita con probabilidad  0.3333333333333333  y recibe el refuerzo  0.0\n",
            "info del siguiente estado\n",
            "(0.3333333333333333, 11, 0.0, True)\n",
            "nuevo estado  11  al que transita con probabilidad  0.3333333333333333  y recibe el refuerzo  0.0\n"
          ]
        }
      ]
    },
    {
      "cell_type": "markdown",
      "source": [
        "En este código podemos ver como podemos acceder al modelo (información del sistema: probabilidades de transición, refuerzos), en este caso se muestra para el estado 10 y acción 1. Comprueba que entiendes bien la salida. También se importante fijarse que en este caso el entorno es estocástico (is_slippery=True)\n",
        "\n",
        "Acciones:\n",
        "\n",
        "0: LEFT\n",
        "\n",
        "1: DOWN\n",
        "\n",
        "2: RIGHT\n",
        "\n",
        "3: UP\n",
        "\n",
        "Refuerzo:\n",
        "\n",
        "Reach goal(G): +1\n",
        "\n",
        "Reach hole(H): 0\n",
        "\n",
        "Reach frozen(F): 0\n",
        "\n",
        "Estados:\n",
        "\n",
        "0 --- 1 --- 2 --- 3\n",
        "\n",
        "4 --- 5 --- 6 --- 7\n",
        "\n",
        "8 --- 9 -- 10-- 11\n",
        "\n",
        "12 - 13 - 14 - 15"
      ],
      "metadata": {
        "id": "l1RhwdktR6FD"
      }
    },
    {
      "cell_type": "code",
      "source": [
        "env=gym.make(\"FrozenLake-v1\", desc=None, map_name=\"4x4\", is_slippery=True)\n",
        "env.reset(seed=123, options={})\n",
        "\n",
        "env.P\n",
        "#En la variable nS recogemos el número de estados\n",
        "nS=env.observation_space.n\n",
        "state=10\n",
        "action=1\n",
        "\n",
        "print (\"asumiendo que estamso en el estado \",state, \" si ejecutamos la accion \",action)\n",
        "\n",
        "for next_state in env.P[state][action]:\n",
        "  print (\"info del siguiente estado\")\n",
        "  print (next_state)\n",
        "  probability = next_state[0]\n",
        "  new_state = next_state[1]\n",
        "  reward = next_state[2]\n",
        "  print (\"nuevo estado \",new_state,\" al que transita con probabilidad \",probability,\" y recibe el refuerzo \",reward)"
      ],
      "metadata": {
        "id": "Au0w5d3Dowfm"
      },
      "execution_count": null,
      "outputs": []
    },
    {
      "cell_type": "code",
      "source": [
        "import gym\n",
        "from IPython import display\n",
        "from pyvirtualdisplay import Display\n",
        "import matplotlib.pyplot as plt\n",
        "\n",
        "\n",
        "import numpy as np\n",
        "import random\n",
        "import time\n",
        "\n",
        "GAMMA = 0.9\n",
        "\n",
        "class Agent:\n",
        "  politica_cambiada=True\n",
        "\n",
        "  def __init__(self):\n",
        "    print (\"Inicializamos la valoración de los estados\", env.observation_space.n)\n",
        "    #solo se podrían inicializar los estados no terminales con un valor distinto de cero..\n",
        "    self.value_function = np.zeros(env.observation_space.n)\n",
        "    #construimos una política determininsta, en cada estado se propone una única acción (las acciones son valores enterores entre 0 y 3)\n",
        "    #la politica inicial sugiere ejecutar la acción cero para todos los estados\n",
        "    self.policy = np.zeros(env.observation_space.n, dtype=int)\n",
        "    \n",
        "\n",
        "\n",
        "  def policy_evaluation(self):\n",
        "    #P, nS, nA, policy, gamma=0.9, tol=1e-3\n",
        "\n",
        "    umbral_theta=1e-3\n",
        "    \n",
        "    self.value_function = np.zeros(env.observation_space.n)\n",
        "    copia_value_function =  np.zeros(env.observation_space.n, dtype=float)\n",
        "    nS=env.observation_space.n\n",
        "    \n",
        "    while True:\n",
        "        for state in range(nS):\n",
        "            #asumimos política determinista, por lo que el primer sumatorio del algoritmo desaparece...\n",
        "            for next_state in env.P[state][self.policy[state]]:\n",
        "                probability = next_state[0]\n",
        "                new_state = next_state[1]\n",
        "                reward = next_state[2]\n",
        "                #print(gamma*probability*value_function[new_state])\n",
        "                copia_value_function[state] += probability*(reward + GAMMA*self.value_function[new_state])\n",
        "            #print (\"estado \",state,\" valoración original \",self.value_function[state],\"nueva valoracion \",copia_value_function[state])\n",
        "                \n",
        "        diff = max(np.abs(copia_value_function - self.value_function))\n",
        "        #print (\"delta \",diff)\n",
        "        #input (\"pulsa para seguir \")\n",
        "        if diff <= umbral_theta:\n",
        "            self.value_function = copia_value_function.copy()\n",
        "            break\n",
        "        else:\n",
        "            self.value_function = copia_value_function.copy()\n",
        "            #reiniciamos para el sumatorio de la siguiente interaccion\n",
        "            copia_value_function = np.zeros(nS) \n",
        "            #print(updated_value_function, '\\n')\n",
        "            #print(value_function)\n",
        "\n",
        "  \n",
        "  \n",
        "  def policy_improvement(self):\n",
        "     #P, nS, nA, value_from_policy, policy, gamma=0.9\n",
        "     #definimos el numero de estados y el  numero de acciones...\n",
        "     nS=env.observation_space.n\n",
        "     nA=env.action_space.n\n",
        "     #vamos a construir una nueva politica determinista\n",
        "     self.politica_cambiada=False    \n",
        "     ############################\n",
        "     cambios=1\n",
        "     while (cambios>0):\n",
        "       cambios=0\n",
        "       for state in range(nS):\n",
        "        valoraciones = []\n",
        "        candidatas=[]\n",
        "        old_action=self.policy[state]\n",
        "        for action in range(nA):\n",
        "            value = 0\n",
        "            for next_state in env.P[state][action]:\n",
        "                probability = next_state[0]\n",
        "                new_state = next_state[1]\n",
        "                reward = next_state[2]\n",
        "                value += probability*(reward + GAMMA*self.value_function[new_state])\n",
        "            valoraciones.append(value)\n",
        "            #print (\"accion \",action,\"valoracion \",value)\n",
        "            \n",
        "        #candidatas=actions.index(np.max(actions)) \n",
        "        #np.asarray -->convierte la tupla que devuelve np.where en un array (pero tiene forma de matriz)\n",
        "        #flatten --> convierte la matriz en vector, uniendo por filas\n",
        "        candidatas=np.asarray(np.where(max(valoraciones) == valoraciones)).flatten()\n",
        "        #print (\"valoraciones \",actions)\n",
        "        #print (\"acciones candidatas entre las que escogeremos al azar \",candidatas)       \n",
        "\n",
        "        self.policy[state]=random.choice(candidatas)\n",
        "        #self.policy[state] = np.argmax(actions)\n",
        "        #print (\"para el estado \",state,\"sugerimos ahora la accion \",self.policy[state]) \n",
        "        if (np.abs(valoraciones[old_action]-valoraciones[self.policy[state]])>0.001):\n",
        "          #print (\"old action \",old_action,\"valoracion \",valoraciones[old_action],\"nueva accion \",self.policy[state],\"valoracion nueva \",valoraciones[self.policy[state]])\n",
        "          cambios=cambios+1\n",
        "          self.politica_cambiada=True\n",
        "        #print (\"cambios hechos \",cambios)\n",
        "\n",
        "def train(agent): \n",
        "\n",
        "    #best_reward = 0.0 \n",
        "    #while best_reward < REWARD_THRESHOLD:\n",
        "    while (agent.politica_cambiada):\n",
        "      agent.policy_evaluation()\n",
        "      print (\"termine la valoración de la política, ahora la mejoramos....\")\n",
        "      agent.policy_improvement()\n",
        "      print (\"termine policy improvement vemos si procede un nuevo ciclo \",agent.politica_cambiada)\n",
        "      #input (\"pulsa para un nuevo ciclo...\")\n",
        "\n",
        "\n",
        "def ejecuta_episodio(agent,ciclos_maximos):\n",
        "  ciclos_ejecutados=0\n",
        "  episode_reward = 0\n",
        "  estado = env.reset()\n",
        "  for t in range(ciclos_maximos):\n",
        "    #env.render()\n",
        "    time.sleep(0.25)\n",
        "    accion = agent.policy[estado]\n",
        "    estado, refuerzo, acabado, _ = env.step(accion)\n",
        "    episode_reward += refuerzo\n",
        "    ciclos_ejecutados += 1\n",
        "\n",
        "    display.clear_output(wait=True)\n",
        "    img.set_data(env.render('rgb_array'))\n",
        "    plt.axis('off')\n",
        "    display.display(plt.gcf())\n",
        "\n",
        "    print (\"la accion ejecutada es \",accion)\n",
        "    a=input (\"pulsa para seguir \") \n",
        "\n",
        "    if acabado:\n",
        "      break\n",
        "  \n",
        "  #env.render()\n",
        "  if not acabado:\n",
        "    print(\"El agente no ha sido capaz de finalizar en  un máximo de {} ciclos.\".format(ciclos_maximos))\n",
        "  else:\n",
        "    print(\"el agente ha finalizado en %d diclos \" % ciclos_ejecutados)\n",
        "    print(\"el refuerzo acumulado durante el episodio ha sido %f\" % episode_reward)\n",
        "\n",
        "\n",
        "#Modulo principal\n",
        "d = Display()\n",
        "d.start()\n",
        "\n",
        "\n",
        "#\"Deterministic-4x4-FrozenLake-v0\"\n",
        "env=gym.make(\"FrozenLake-v1\", desc=None, map_name=\"4x4\", is_slippery=False)\n",
        "NUMERO_MAXIMO_CICLOS=20\n",
        "\n",
        "#\"Deterministic-8x8-FrozenLake-v0\"\n",
        "#env=gym.make(\"FrozenLake-v1\", desc=None, map_name=\"8x8\", is_slippery=False)\n",
        "#NUMERO_MAXIMO_CICLOS=20\n",
        "\n",
        "#\"Stochastic-4x4-FrozenLake-v0\"\n",
        "#env=gym.make(\"FrozenLake-v1\", desc=None, map_name=\"4x4\", is_slippery=True)\n",
        "#NUMERO_MAXIMO_CICLOS=100\n",
        "\n",
        "\n",
        "env.reset(seed=123, options={})\n",
        "\n",
        "\n",
        "\n",
        "print (\"espacio de estados \",env.observation_space)\n",
        "print (\"el numero de estados es\", env.observation_space.n)\n",
        "print (\"mostramos el espacio de estados\")\n",
        "print (env.action_space)\n",
        "a=input (\"vamos a empezar... pulsa para seguir \")\n",
        "\n",
        "#Discrete (16) indica que son 16 estados posibles, desde el 0 al 15\n",
        "#Hay un estado inicial, el cero y 5 estados terminales\n",
        "#Dispone de un espacio de estados discreto, formado por 4 acciones posibles\n",
        "#izquierda, abajo,derecha y arriba\n",
        "\n",
        "img = plt.imshow(env.render('rgb_array'))\n",
        "display.clear_output(wait=True)\n",
        "img.set_data(env.render('rgb_array'))\n",
        "plt.axis('off')\n",
        "display.display(plt.gcf())\n",
        "#input (\"pulsa para seguir \")\n",
        "#env.P\n",
        "\n",
        "agent = Agent()\n",
        "train(agent)\n",
        "\n",
        "input (\"vamos a ejecutar un episodio, pulsa para seguir \")\n",
        "ejecuta_episodio(agent,NUMERO_MAXIMO_CICLOS)\n",
        "\n"
      ],
      "metadata": {
        "id": "8FiZDJffMvDe"
      },
      "execution_count": null,
      "outputs": []
    },
    {
      "cell_type": "markdown",
      "metadata": {
        "id": "4XQcxYTLc3aN"
      },
      "source": [
        "Fíjate que si el entorno es estocástico deberiámos repetir el experimento un determinado número de veces y mostrar el porcentaje de éxitos. Pero en ese caso no mostramos la salida gráfica por pantalla...."
      ]
    },
    {
      "cell_type": "code",
      "source": [
        "import gym\n",
        "from IPython import display\n",
        "from pyvirtualdisplay import Display\n",
        "import matplotlib.pyplot as plt\n",
        "\n",
        "\n",
        "import numpy as np\n",
        "import random\n",
        "import time\n",
        "\n",
        "GAMMA = 0.9\n",
        "\n",
        "class Agent:\n",
        "  politica_cambiada=True\n",
        "\n",
        "  def __init__(self):\n",
        "    print (\"Inicializamos la valoración de los estados\", env.observation_space.n)\n",
        "    #solo se podrían inicializar los estados no terminales con un valor distinto de cero..\n",
        "    self.value_function = np.zeros(env.observation_space.n)\n",
        "    #construimos una política determininsta, en cada estado se propone una única acción (las acciones son valores enterores entre 0 y 3)\n",
        "    #la politica inicial sugiere ejecutar la acción cero para todos los estados\n",
        "    self.policy = np.zeros(env.observation_space.n, dtype=int)\n",
        "    \n",
        "\n",
        "\n",
        "  def policy_evaluation(self):\n",
        "    #P, nS, nA, policy, gamma=0.9, tol=1e-3\n",
        "\n",
        "    umbral_theta=1e-3\n",
        "    \n",
        "    self.value_function = np.zeros(env.observation_space.n)\n",
        "    copia_value_function =  np.zeros(env.observation_space.n, dtype=float)\n",
        "    nS=env.observation_space.n\n",
        "    \n",
        "    while True:\n",
        "        for state in range(nS):\n",
        "            #asumimos política determinista, por lo que el primer sumatorio del algoritmo desaparece...\n",
        "            for next_state in env.P[state][self.policy[state]]:\n",
        "                probability = next_state[0]\n",
        "                new_state = next_state[1]\n",
        "                reward = next_state[2]\n",
        "                #print(gamma*probability*value_function[new_state])\n",
        "                copia_value_function[state] += probability*(reward + GAMMA*self.value_function[new_state])\n",
        "            #print (\"estado \",state,\" valoración original \",self.value_function[state],\"nueva valoracion \",copia_value_function[state])\n",
        "                \n",
        "        diff = max(np.abs(copia_value_function - self.value_function))\n",
        "        #print (\"delta \",diff)\n",
        "        #input (\"pulsa para seguir \")\n",
        "        if diff <= umbral_theta:\n",
        "            self.value_function = copia_value_function.copy()\n",
        "            break\n",
        "        else:\n",
        "            self.value_function = copia_value_function.copy()\n",
        "            #reiniciamos para el sumatorio de la siguiente interaccion\n",
        "            copia_value_function = np.zeros(nS) \n",
        "            #print(updated_value_function, '\\n')\n",
        "            #print(value_function)\n",
        "\n",
        "  \n",
        "  \n",
        "  def policy_improvement(self):\n",
        "     #P, nS, nA, value_from_policy, policy, gamma=0.9\n",
        "     #definimos el numero de estados y el  numero de acciones...\n",
        "     nS=env.observation_space.n\n",
        "     nA=env.action_space.n\n",
        "     #vamos a construir una nueva politica determinista\n",
        "     self.politica_cambiada=False    \n",
        "     ############################\n",
        "     cambios=1\n",
        "     while (cambios>0):\n",
        "       cambios=0\n",
        "       for state in range(nS):\n",
        "        valoraciones = []\n",
        "        candidatas=[]\n",
        "        old_action=self.policy[state]\n",
        "        for action in range(nA):\n",
        "            value = 0\n",
        "            for next_state in env.P[state][action]:\n",
        "                probability = next_state[0]\n",
        "                new_state = next_state[1]\n",
        "                reward = next_state[2]\n",
        "                value += probability*(reward + GAMMA*self.value_function[new_state])\n",
        "            valoraciones.append(value)\n",
        "            #print (\"accion \",action,\"valoracion \",value)\n",
        "            \n",
        "        #candidatas=actions.index(np.max(actions)) \n",
        "        #np.asarray -->convierte la tupla que devuelve np.where en un array (pero tiene forma de matriz)\n",
        "        #flatten --> convierte la matriz en vector, uniendo por filas\n",
        "        candidatas=np.asarray(np.where(max(valoraciones) == valoraciones)).flatten()\n",
        "        #print (\"valoraciones \",actions)\n",
        "        #print (\"acciones candidatas entre las que escogeremos al azar \",candidatas)       \n",
        "\n",
        "        self.policy[state]=random.choice(candidatas)\n",
        "        #self.policy[state] = np.argmax(actions)\n",
        "        #print (\"para el estado \",state,\"sugerimos ahora la accion \",self.policy[state]) \n",
        "        if (np.abs(valoraciones[old_action]-valoraciones[self.policy[state]])>0.001):\n",
        "          #print (\"old action \",old_action,\"valoracion \",valoraciones[old_action],\"nueva accion \",self.policy[state],\"valoracion nueva \",valoraciones[self.policy[state]])\n",
        "          cambios=cambios+1\n",
        "          self.politica_cambiada=True\n",
        "        #print (\"cambios hechos \",cambios)\n",
        "\n",
        "def train(agent): \n",
        "\n",
        "    #best_reward = 0.0 \n",
        "    #while best_reward < REWARD_THRESHOLD:\n",
        "    while (agent.politica_cambiada):\n",
        "      agent.policy_evaluation()\n",
        "      print (\"termine la valoración de la política, ahora la mejoramos....\")\n",
        "      agent.policy_improvement()\n",
        "      print (\"termine policy improvement vemos si procede un nuevo ciclo \",agent.politica_cambiada)\n",
        "      #input (\"pulsa para un nuevo ciclo...\")\n",
        "\n",
        "\n",
        "def ejecuta_episodio(agent,ciclos_maximos):\n",
        "  global aciertos\n",
        "  global fallos\n",
        "  ciclos_ejecutados=0\n",
        "  episode_reward = 0\n",
        "  estado = env.reset()\n",
        "  for t in range(ciclos_maximos):\n",
        "    accion = agent.policy[estado]\n",
        "    estado, refuerzo, acabado, _ = env.step(accion)\n",
        "    episode_reward += refuerzo\n",
        "    ciclos_ejecutados += 1\n",
        "    if acabado:\n",
        "      break\n",
        "  \n",
        "  if not acabado:\n",
        "    print(\"El agente no ha sido capaz de finalizar en  un máximo de {} ciclos.\".format(ciclos_maximos))\n",
        "  else:\n",
        "    print(\"el agente ha finalizado en %d diclos \" % ciclos_ejecutados)\n",
        "    print(\"el refuerzo acumulado durante el episodio ha sido %f\" % episode_reward)\n",
        "    if episode_reward<1:\n",
        "        fallos=fallos+1\n",
        "    else:\n",
        "        aciertos=aciertos+1\n",
        "\n",
        "#Modulo principal\n",
        "#\"Stochastic-4x4-FrozenLake-v0\"\n",
        "env=gym.make(\"FrozenLake-v1\", desc=None, map_name=\"4x4\", is_slippery=True)\n",
        "NUMERO_MAXIMO_CICLOS=100\n",
        "env.reset(seed=123, options={})\n",
        "\n",
        "print (\"espacio de estados \",env.observation_space)\n",
        "print (\"el numero de estados es\", env.observation_space.n)\n",
        "print (\"mostramos el espacio de estados\")\n",
        "print (env.action_space)\n",
        "a=input (\"vamos a empezar... pulsa para seguir \")\n",
        "\n",
        "\n",
        "agent = Agent()\n",
        "train(agent)\n",
        "\n",
        "fallos=0\n",
        "aciertos=0\n",
        "numero_experimentos=50\n",
        "for ciclo in range(numero_experimentos):\n",
        "  #input (\"vamos a ejecutar un episodio, pulsa para seguir \")\n",
        "  print (\"ejecutamos episodio \",ciclo)\n",
        "  ejecuta_episodio(agent,NUMERO_MAXIMO_CICLOS)\n",
        "\n",
        "porcentaje_aciertos=((float)(aciertos)/(float)(numero_experimentos))*100.0\n",
        "print (\"aciertos \",aciertos,\"fallos \",fallos, \"porcentaje \",porcentaje_aciertos )"
      ],
      "metadata": {
        "id": "51pq-7BVxXKn"
      },
      "execution_count": null,
      "outputs": []
    },
    {
      "cell_type": "markdown",
      "source": [
        "Modifica ahora el algoritmo anterior para implementar value-iteration:"
      ],
      "metadata": {
        "id": "AbUI7e17oRTH"
      }
    },
    {
      "cell_type": "markdown",
      "source": [
        "Ahora ponemos refuerzo -1 en los agujeros y reimplementamos policy-iteration/value-iteration, comprueba que diferencia hay en el resultado."
      ],
      "metadata": {
        "id": "b4zSRXF3orkx"
      }
    },
    {
      "cell_type": "markdown",
      "source": [
        "Imagina ahora que quieres implementar los algoritmos anteriores para resolver el comportamiento de navegar a una posición objetivo con un robot. Indica desde el punto de vista teórico como abordarías el problema. Piensa, por  ejemplo como lo harías con el TurtleSim (simulador básico). Opcional, plantear también cual podría ser la solución para un comportamiento como el de seguir paredes.\n"
      ],
      "metadata": {
        "id": "DBuzqui8vP9c"
      }
    }
  ]
}